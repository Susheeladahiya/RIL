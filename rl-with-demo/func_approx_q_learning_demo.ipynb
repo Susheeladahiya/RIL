{
 "cells": [
  {
   "cell_type": "code",
   "execution_count": 2,
   "metadata": {
    "collapsed": true
   },
   "outputs": [],
   "source": [
    "# Adapted from: https://github.com/lazyprogrammer/machine_learning_examples/tree/master/rl\n",
    "# Function approximation using Q Learning\n",
    "import numpy as np\n",
    "import matplotlib.pyplot as plt\n",
    "from gridWorldGame import standard_grid, negative_grid,print_values, print_policy\n",
    "\n",
    "SMALL_ENOUGH = 1e-3\n",
    "GAMMA = 0.9\n",
    "ALL_POSSIBLE_ACTIONS = ('U', 'D', 'L', 'R')\n",
    "ALPHA = 0.1\n",
    "SA2IDX = {}\n",
    "IDX = 0"
   ]
  },
  {
   "cell_type": "code",
   "execution_count": 3,
   "metadata": {},
   "outputs": [],
   "source": [
    "def max_dict(d):\n",
    "  # returns the argmax (key) and max (value) from a dictionary\n",
    "  max_key = None\n",
    "  max_val = float('-inf')\n",
    "  for k, v in d.items():\n",
    "    if v > max_val:\n",
    "      max_val = v\n",
    "      max_key = k\n",
    "  return max_key, max_val"
   ]
  },
  {
   "cell_type": "code",
   "execution_count": 4,
   "metadata": {},
   "outputs": [],
   "source": [
    "def random_action(a, eps=0.1):\n",
    "  # epsilon-soft to ensure all states are visited\n",
    "  p = np.random.random()\n",
    "  if p < (1 - eps):\n",
    "    return a\n",
    "  else:\n",
    "    return np.random.choice(ALL_POSSIBLE_ACTIONS)"
   ]
  },
  {
   "cell_type": "code",
   "execution_count": 5,
   "metadata": {},
   "outputs": [],
   "source": [
    "class Model:\n",
    "  def __init__(self):\n",
    "    self.theta = np.random.randn(25) / np.sqrt(25)\n",
    "    # if we use SA2IDX, a one-hot encoding for every (s,a) pair\n",
    "    # in reality we wouldn't want to do this b/c we have just\n",
    "    # as many params as before\n",
    "    # print \"D:\", IDX\n",
    "    # self.theta = np.random.randn(IDX) / np.sqrt(IDX)\n",
    "\n",
    "  def sa2x(self, s, a):\n",
    "    # NOTE: using just (r, c, r*c, u, d, l, r, 1) is not expressive enough\n",
    "    return np.array([\n",
    "      s[0] - 1              if a == 'U' else 0,\n",
    "      s[1] - 1.5            if a == 'U' else 0,\n",
    "      (s[0]*s[1] - 3)/3     if a == 'U' else 0,\n",
    "      (s[0]*s[0] - 2)/2     if a == 'U' else 0,\n",
    "      (s[1]*s[1] - 4.5)/4.5 if a == 'U' else 0,\n",
    "      1                     if a == 'U' else 0,\n",
    "      s[0] - 1              if a == 'D' else 0,\n",
    "      s[1] - 1.5            if a == 'D' else 0,\n",
    "      (s[0]*s[1] - 3)/3     if a == 'D' else 0,\n",
    "      (s[0]*s[0] - 2)/2     if a == 'D' else 0,\n",
    "      (s[1]*s[1] - 4.5)/4.5 if a == 'D' else 0,\n",
    "      1                     if a == 'D' else 0,\n",
    "      s[0] - 1              if a == 'L' else 0,\n",
    "      s[1] - 1.5            if a == 'L' else 0,\n",
    "      (s[0]*s[1] - 3)/3     if a == 'L' else 0,\n",
    "      (s[0]*s[0] - 2)/2     if a == 'L' else 0,\n",
    "      (s[1]*s[1] - 4.5)/4.5 if a == 'L' else 0,\n",
    "      1                     if a == 'L' else 0,\n",
    "      s[0] - 1              if a == 'R' else 0,\n",
    "      s[1] - 1.5            if a == 'R' else 0,\n",
    "      (s[0]*s[1] - 3)/3     if a == 'R' else 0,\n",
    "      (s[0]*s[0] - 2)/2     if a == 'R' else 0,\n",
    "      (s[1]*s[1] - 4.5)/4.5 if a == 'R' else 0,\n",
    "      1                     if a == 'R' else 0,\n",
    "      1\n",
    "    ])\n",
    "    # if we use SA2IDX, a one-hot encoding for every (s,a) pair\n",
    "    # in reality we wouldn't want to do this b/c we have just\n",
    "    # as many params as before\n",
    "    # x = np.zeros(len(self.theta))\n",
    "    # idx = SA2IDX[s][a]\n",
    "    # x[idx] = 1\n",
    "    # return x\n",
    "\n",
    "  def predict(self, s, a):\n",
    "    x = self.sa2x(s, a)\n",
    "    return self.theta.dot(x)\n",
    "\n",
    "  def grad(self, s, a):\n",
    "    return self.sa2x(s, a)"
   ]
  },
  {
   "cell_type": "code",
   "execution_count": 6,
   "metadata": {},
   "outputs": [],
   "source": [
    "def getQs(model, s):\n",
    "  # we need Q(s,a) to choose an action\n",
    "  # i.e. a = argmax[a]{ Q(s,a) }\n",
    "  Qs = {}\n",
    "  for a in ALL_POSSIBLE_ACTIONS:\n",
    "    q_sa = model.predict(s, a)\n",
    "    Qs[a] = q_sa\n",
    "  return Qs"
   ]
  },
  {
   "cell_type": "code",
   "execution_count": 7,
   "metadata": {},
   "outputs": [
    {
     "name": "stdout",
     "output_type": "stream",
     "text": [
      "rewards:\n",
      "---------------------------\n",
      "-0.10|-0.10|-0.10| 1.00|\n",
      "---------------------------\n",
      "-0.10| 0.00|-0.10|-1.00|\n",
      "---------------------------\n",
      "-0.10|-0.10|-0.10|-0.10|\n"
     ]
    }
   ],
   "source": [
    "grid = negative_grid(step_cost=-0.1)\n",
    "\n",
    "# print rewards\n",
    "print(\"rewards:\")\n",
    "print_values(grid.rewards, grid)"
   ]
  },
  {
   "cell_type": "code",
   "execution_count": 8,
   "metadata": {},
   "outputs": [
    {
     "name": "stdout",
     "output_type": "stream",
     "text": [
      "{(0, 1): {'U': 0, 'D': 1, 'L': 2, 'R': 3}, (1, 2): {'U': 4, 'D': 5, 'L': 6, 'R': 7}, (2, 1): {'U': 8, 'D': 9, 'L': 10, 'R': 11}, (0, 2): {'U': 12, 'D': 13, 'L': 14, 'R': 15}, (2, 2): {'U': 16, 'D': 17, 'L': 18, 'R': 19}, (1, 0): {'U': 20, 'D': 21, 'L': 22, 'R': 23}, (1, 3): {'U': 24, 'D': 25, 'L': 26, 'R': 27}, (0, 0): {'U': 28, 'D': 29, 'L': 30, 'R': 31}, (0, 3): {'U': 32, 'D': 33, 'L': 34, 'R': 35}, (2, 0): {'U': 36, 'D': 37, 'L': 38, 'R': 39}, (2, 3): {'U': 40, 'D': 41, 'L': 42, 'R': 43}}\n"
     ]
    }
   ],
   "source": [
    "# no policy initialization, policy is derived from most recent Q\n",
    "# enumerate all (s,a) pairs, each will have its own weight in our \"dumb\" model\n",
    "# essentially each weight will be a measure of Q(s,a) itself\n",
    "states = grid.all_states()\n",
    "for s in states:\n",
    "  SA2IDX[s] = {}\n",
    "  for a in ALL_POSSIBLE_ACTIONS:\n",
    "    SA2IDX[s][a] = IDX\n",
    "    IDX += 1\n",
    "\n",
    "print(SA2IDX)"
   ]
  },
  {
   "cell_type": "code",
   "execution_count": 9,
   "metadata": {},
   "outputs": [],
   "source": [
    "# initialize model\n",
    "model = Model()"
   ]
  },
  {
   "cell_type": "code",
   "execution_count": 10,
   "metadata": {},
   "outputs": [
    {
     "name": "stdout",
     "output_type": "stream",
     "text": [
      "iteration: 0\n",
      "iteration: 1000\n",
      "iteration: 2000\n",
      "iteration: 3000\n",
      "iteration: 4000\n",
      "iteration: 5000\n",
      "iteration: 6000\n",
      "iteration: 7000\n",
      "iteration: 8000\n",
      "iteration: 9000\n",
      "iteration: 10000\n",
      "iteration: 11000\n",
      "iteration: 12000\n",
      "iteration: 13000\n",
      "iteration: 14000\n",
      "iteration: 15000\n",
      "iteration: 16000\n",
      "iteration: 17000\n",
      "iteration: 18000\n",
      "iteration: 19000\n"
     ]
    }
   ],
   "source": [
    "# repeat until convergence\n",
    "t = 1.0\n",
    "t2 = 1.0\n",
    "deltas = []\n",
    "for it in range(20000):\n",
    "  if it % 100 == 0:\n",
    "    t += 0.01\n",
    "    t2 += 0.01\n",
    "  if it % 1000 == 0:\n",
    "    print(\"iteration:\", it)\n",
    "  alpha = ALPHA / t2\n",
    "\n",
    "  # instead of 'generating' an epsiode, we will PLAY\n",
    "  # an episode within this loop\n",
    "  s = (2, 0) # start state\n",
    "  grid.set_state(s)\n",
    "\n",
    "  # get Q(s) so we can choose the first action\n",
    "  Qs = getQs(model, s)\n",
    "\n",
    "  # the first (s, r) tuple is the state we start in and 0\n",
    "  # (since we don't get a reward) for simply starting the game\n",
    "  # the last (s, r) tuple is the terminal state and the final reward\n",
    "  # the value for the terminal state is by definition 0, so we don't\n",
    "  # care about updating it.\n",
    "  a = max_dict(Qs)[0]\n",
    "  a = random_action(a, eps=0.5/t) # epsilon-greedy\n",
    "  biggest_change = 0\n",
    "  while not grid.game_over():\n",
    "    r = grid.move(a)\n",
    "    s2 = grid.current_state()\n",
    "\n",
    "    # we need the next action as well since Q(s,a) depends on Q(s',a')\n",
    "    # if s2 not in policy then it's a terminal state, all Q are 0\n",
    "    old_theta = model.theta.copy()\n",
    "    if grid.is_terminal(s2):\n",
    "      model.theta += alpha*(r - model.predict(s, a))*model.grad(s, a)\n",
    "    else:\n",
    "      # not terminal\n",
    "      Qs2 = getQs(model, s2)\n",
    "      a2, maxQs2a2 = max_dict(Qs2)\n",
    "      a2 = random_action(a2, eps=0.5/t) # epsilon-greedy\n",
    "\n",
    "      # we will update Q(s,a) AS we experience the episode\n",
    "      model.theta += alpha*(r + GAMMA*maxQs2a2 - model.predict(s, a))*model.grad(s, a)\n",
    "      \n",
    "      # next state becomes current state\n",
    "      s = s2\n",
    "      a = a2\n",
    "\n",
    "    biggest_change = max(biggest_change, np.abs(model.theta - old_theta).sum())\n",
    "  deltas.append(biggest_change)"
   ]
  },
  {
   "cell_type": "code",
   "execution_count": 11,
   "metadata": {},
   "outputs": [
    {
     "data": {
      "image/png": "[encoded data removed]",
      "text/plain": [
       "<Figure size 640x480 with 1 Axes>"
      ]
     },
     "metadata": {},
     "output_type": "display_data"
    }
   ],
   "source": [
    "plt.plot(deltas)\n",
    "plt.show()"
   ]
  },
  {
   "cell_type": "code",
   "execution_count": 12,
   "metadata": {},
   "outputs": [],
   "source": [
    "# determine the policy from Q*\n",
    "# find V* from Q*\n",
    "policy = {}\n",
    "V = {}\n",
    "Q = {}\n",
    "for s in grid.actions.keys():\n",
    "  Qs = getQs(model, s)\n",
    "  Q[s] = Qs\n",
    "  a, max_q = max_dict(Qs)\n",
    "  policy[s] = a\n",
    "  V[s] = max_q"
   ]
  },
  {
   "cell_type": "code",
   "execution_count": 13,
   "metadata": {},
   "outputs": [
    {
     "name": "stdout",
     "output_type": "stream",
     "text": [
      "final values:\n",
      "---------------------------\n",
      " 0.62| 0.80| 1.00| 0.00|\n",
      "---------------------------\n",
      " 0.46| 0.00| 0.68| 0.00|\n",
      "---------------------------\n",
      " 0.31| 0.16| 0.28| 0.68|\n",
      "final policy:\n",
      "---------------------------\n",
      "  R  |  R  |  R  |     |\n",
      "---------------------------\n",
      "  U  |     |  U  |     |\n",
      "---------------------------\n",
      "  U  |  L  |  U  |  U  |\n"
     ]
    }
   ],
   "source": [
    "print(\"final values:\")\n",
    "print_values(V, grid)\n",
    "print(\"final policy:\")\n",
    "print_policy(policy, grid)"
   ]
  },
  {
   "cell_type": "code",
   "execution_count": null,
   "metadata": {},
   "outputs": [],
   "source": []
  }
 ],
 "metadata": {
  "kernelspec": {
   "display_name": ".venv",
   "language": "python",
   "name": "python3"
  },
  "language_info": {
   "codemirror_mode": {
    "name": "ipython",
    "version": 3
   },
   "file_extension": ".py",
   "mimetype": "text/x-python",
   "name": "python",
   "nbconvert_exporter": "python",
   "pygments_lexer": "ipython3",
   "version": "3.12.3"
  }
 },
 "nbformat": 4,
 "nbformat_minor": 0
}
