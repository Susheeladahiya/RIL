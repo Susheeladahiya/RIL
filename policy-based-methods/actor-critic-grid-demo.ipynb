{
 "cells": [
  {
   "cell_type": "code",
   "execution_count": 1,
   "metadata": {},
   "outputs": [],
   "source": [
    "import numpy as np\n",
    "\n",
    "# Grid world dimensions\n",
    "grid_height = 4\n",
    "grid_width = 5\n",
    "# Possible actions (Up, Down, Left, Right)\n",
    "actions = ['U', 'D', 'L', 'R']\n",
    "num_actions = len(actions)"
   ]
  },
  {
   "cell_type": "code",
   "execution_count": 2,
   "metadata": {},
   "outputs": [],
   "source": [
    "# Initialize state-value function (Critic) and policy (Actor)\n",
    "value_table = np.zeros((grid_height, grid_width))\n",
    "policy_table = np.full((grid_height, grid_width), 1 / num_actions)\n",
    "\n",
    "# Rewards\n",
    "rewards = np.zeros((grid_height, grid_width))\n",
    "rewards[3, 4] = 1  # Goal state reward\n",
    "rewards[2, 2] = -1  # Pitfall state penalty\n",
    "\n",
    "# Learning parameters\n",
    "alpha = 0.1  # learning rate\n",
    "gamma = 0.9  # discount factor\n",
    "theta = 0.1  # small value for convergence check\n"
   ]
  },
  {
   "cell_type": "code",
   "execution_count": 3,
   "metadata": {},
   "outputs": [],
   "source": [
    "# Define state transition function\n",
    "def step(state, action):\n",
    "    x, y = state\n",
    "    if action == 'U':\n",
    "        x = max(0, x - 1)\n",
    "    elif action == 'D':\n",
    "        x = min(grid_height - 1, x + 1)\n",
    "    elif action == 'L':\n",
    "        y = max(0, y - 1)\n",
    "    elif action == 'R':\n",
    "        y = min(grid_width - 1, y + 1)\n",
    "    return (x, y)\n",
    "\n",
    "# Select action using policy (Actor)\n",
    "def select_action(state):\n",
    "    policy = policy_table[state[0], state[1]]\n",
    "    return np.random.choice(actions, p=[policy] * num_actions)"
   ]
  },
  {
   "cell_type": "code",
   "execution_count": 4,
   "metadata": {},
   "outputs": [
    {
     "name": "stdout",
     "output_type": "stream",
     "text": [
      "Iteration 0, Step 0:\n",
      "[[0. 0. 0. 0. 0.]\n",
      " [0. 0. 0. 0. 0.]\n",
      " [0. 0. 0. 0. 0.]\n",
      " [0. 0. 0. 0. 0.]]\n",
      "\n",
      "\n",
      "Iteration 0, Step 1:\n",
      "[[0. 0. 0. 0. 0.]\n",
      " [0. 0. 0. 0. 0.]\n",
      " [0. 0. 0. 0. 0.]\n",
      " [0. 0. 0. 0. 0.]]\n",
      "\n",
      "\n",
      "Iteration 0, Step 2:\n",
      "[[ 0.   0.   0.   0.   0. ]\n",
      " [ 0.   0.   0.   0.   0. ]\n",
      " [-0.1  0.   0.   0.   0. ]\n",
      " [ 0.   0.   0.   0.   0. ]]\n",
      "\n",
      "\n",
      "Final Value Table:\n",
      "[[ 0.   0.   0.   0.   0. ]\n",
      " [ 0.   0.   0.   0.   0. ]\n",
      " [-0.1  0.   0.   0.   0. ]\n",
      " [ 0.   0.   0.   0.   0. ]]\n",
      "Path Taken:\n",
      "[(0, 0), (1, 0), (2, 0), (3, 0)]\n"
     ]
    }
   ],
   "source": [
    "# Main Actor-Critic algorithm\n",
    "def actor_critic(num_iterations=1000):\n",
    "    for iteration in range(num_iterations):\n",
    "        state = (0, 0)  # Start at top-left corner\n",
    "        path_taken = [state]\n",
    "\n",
    "        for step_count in range(100):  # Max steps per episode\n",
    "            # Select an action from the policy\n",
    "            action = select_action(state)\n",
    "            next_state = step(state, action)\n",
    "            \n",
    "            # Get the reward for the action taken\n",
    "            reward = rewards[next_state]\n",
    "\n",
    "            # Update Critic: Value function using Bellman equation\n",
    "            td_error = reward + gamma * value_table[next_state[0], next_state[1]] - value_table[state[0], state[1]]\n",
    "            value_table[state[0], state[1]] += alpha * td_error\n",
    "\n",
    "            # Update Actor: Policy function using policy gradient\n",
    "            policy_table[state[0], state[1]] += alpha * td_error\n",
    "\n",
    "            # Move to the next state\n",
    "            state = next_state\n",
    "            path_taken.append(state)\n",
    "\n",
    "            if iteration % 10 == 0:  # Print every 10 iterations\n",
    "                print(f\"Iteration {iteration}, Step {step_count}:\")\n",
    "                print(value_table)\n",
    "                print(\"\\n\")\n",
    "\n",
    "            # Check if reached terminal state (goal or pitfall)\n",
    "            if state == (3, 4) or state == (3, 0):\n",
    "                break\n",
    "\n",
    "        # Convergence check (optional)\n",
    "        if np.max(np.abs(value_table - np.copy(value_table))) < theta:\n",
    "            break\n",
    "\n",
    "    return value_table, path_taken\n",
    "\n",
    "# Running the Actor-Critic algorithm\n",
    "final_value_table, path = actor_critic()\n",
    "\n",
    "# Print the final value table and path\n",
    "print(\"Final Value Table:\")\n",
    "print(final_value_table)\n",
    "\n",
    "print(\"Path Taken:\")\n",
    "print(path)"
   ]
  }
 ],
 "metadata": {
  "kernelspec": {
   "display_name": ".venv",
   "language": "python",
   "name": "python3"
  },
  "language_info": {
   "codemirror_mode": {
    "name": "ipython",
    "version": 3
   },
   "file_extension": ".py",
   "mimetype": "text/x-python",
   "name": "python",
   "nbconvert_exporter": "python",
   "pygments_lexer": "ipython3",
   "version": "3.12.3"
  }
 },
 "nbformat": 4,
 "nbformat_minor": 2
}
